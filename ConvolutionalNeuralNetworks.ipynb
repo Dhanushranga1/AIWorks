{
 "cells": [
  {
   "cell_type": "code",
   "id": "00be3fb0-a282-45bd-bd70-5d71a7d12c34",
   "metadata": {
    "ExecuteTime": {
     "end_time": "2025-05-31T08:12:39.500734Z",
     "start_time": "2025-05-31T08:12:39.476073Z"
    }
   },
   "source": [
    "from keras.models import Sequential\n",
    "from keras.layers import Dense\n",
    "\n",
    "model = Sequential()\n",
    "#input layer\n",
    "model.add(Dense(units=64, activation='relu',input_dim=100))\n",
    "#hidden layer\n",
    "model.add(Dense(units=32, activation='relu'))\n",
    "#output layer\n",
    "model.add(Dense(units=1,activation='sigmoid'))\n"
   ],
   "outputs": [],
   "execution_count": 2
  },
  {
   "cell_type": "code",
   "execution_count": null,
   "id": "4a8faa70-9495-4666-9477-4d4dd3ddb32f",
   "metadata": {},
   "outputs": [],
   "source": []
  }
 ],
 "metadata": {
  "kernelspec": {
   "display_name": "Python 3 (ipykernel)",
   "language": "python",
   "name": "python3"
  },
  "language_info": {
   "codemirror_mode": {
    "name": "ipython",
    "version": 3
   },
   "file_extension": ".py",
   "mimetype": "text/x-python",
   "name": "python",
   "nbconvert_exporter": "python",
   "pygments_lexer": "ipython3",
   "version": "3.13.3"
  }
 },
 "nbformat": 4,
 "nbformat_minor": 5
}
