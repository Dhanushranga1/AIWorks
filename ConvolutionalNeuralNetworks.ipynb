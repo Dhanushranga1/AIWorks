{
 "cells": [
  {
   "cell_type": "code",
   "id": "00be3fb0-a282-45bd-bd70-5d71a7d12c34",
   "metadata": {
    "jupyter": {
     "is_executing": true
    }
   },
   "source": [
    "from keras.models import Sequential\n",
    "from keras.layers import Dense\n",
    "\n",
    "model = Sequential()\n",
    "#input layer\n",
    "model.add(Dense(units=64, activation='relu',input_dim=100))\n",
    "#hidden layer\n",
    "model.add(Dense(units=32, activation='relu'))\n",
    "#output layer\n",
    "model.add(Dense(units=1,activation='sigmoid'))\n"
   ],
   "outputs": [],
   "execution_count": null
  },
  {
   "metadata": {},
   "cell_type": "markdown",
   "source": "",
   "id": "47501e9ea36b558a"
  },
  {
   "cell_type": "code",
   "id": "4a8faa70-9495-4666-9477-4d4dd3ddb32f",
   "metadata": {
    "jupyter": {
     "is_executing": true
    }
   },
   "source": "pip install tensorflow \n",
   "outputs": [],
   "execution_count": null
  },
  {
   "metadata": {
    "jupyter": {
     "is_executing": true
    }
   },
   "cell_type": "code",
   "source": "",
   "id": "eca4f9b0e00888c0",
   "outputs": [],
   "execution_count": null
  },
  {
   "metadata": {
    "jupyter": {
     "is_executing": true
    }
   },
   "cell_type": "code",
   "source": "",
   "id": "b97e37f2a0e0ac18",
   "outputs": [],
   "execution_count": null
  },
  {
   "metadata": {},
   "cell_type": "code",
   "outputs": [],
   "execution_count": null,
   "source": "",
   "id": "1a8711edf2e1e73f"
  },
  {
   "metadata": {},
   "cell_type": "code",
   "outputs": [],
   "execution_count": null,
   "source": "",
   "id": "bfd7474a0e312f81"
  }
 ],
 "metadata": {
  "kernelspec": {
   "display_name": "Python 3 (ipykernel)",
   "language": "python",
   "name": "python3"
  },
  "language_info": {
   "codemirror_mode": {
    "name": "ipython",
    "version": 3
   },
   "file_extension": ".py",
   "mimetype": "text/x-python",
   "name": "python",
   "nbconvert_exporter": "python",
   "pygments_lexer": "ipython3",
   "version": "3.13.3"
  }
 },
 "nbformat": 4,
 "nbformat_minor": 5
}
